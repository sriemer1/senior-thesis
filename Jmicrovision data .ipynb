{
 "cells": [
  {
   "cell_type": "code",
   "execution_count": 21,
   "metadata": {
    "scrolled": true
   },
   "outputs": [
    {
     "name": "stdout",
     "output_type": "stream",
     "text": [
      "{'\"Amorphous organic matter\"': 3526, '\"Bacterial filament\"': 151, '\"Coccoid\"': 90, '\"Cyanobacterial filament\"': 30, '\"Diatom\"': 1, '\"?\"': 1, '\"Dinoflagellate\"': 1}\n"
     ]
    }
   ],
   "source": [
    "import os \n",
    "import numpy as np\n",
    "from collections import Counter\n",
    "from matplotlib import *\n",
    "\n",
    "\n",
    "#Lists that will contain data for analysis\n",
    "\n",
    "polygonal_green_pointcount=[]   #note: point count data is enumerated in a dictionary\n",
    "polygonal_pink_pointcount=[]\n",
    "flat_green_pointcount=[]\n",
    "flat_pink_pointcount=[]\n",
    "polygonal_green_widths=[]\n",
    "polygonal_pink_widths=[]\n",
    "flat_green_widths=[]\n",
    "flat_pink_widths=[]\n",
    "old_polygonal_pointcount=[]\n",
    "old_polygonal_widths=[]\n",
    "\n",
    "#Obtain polygonal mat point count data#\n",
    "\n",
    "filenames_pol_green_pc=[]\n",
    "filenames_pol_pink_pc=[]\n",
    "\n",
    "for file in os.listdir(os.chdir('/Users/sydneyriemer/Desktop/Jmicrovision data')):\n",
    "    if (file.startswith('pol') or file.startswith('Pol') or file.startswith('top')) and file.endswith('PC.txt'):\n",
    "        if \"green\" in file or \"top\" in file:\n",
    "            filenames_pol_green_pc.append(file)\n",
    "\n",
    "for i in filenames_pol_green_pc:\n",
    "    filename=open(i,'r') \n",
    "    lines=filename.readlines()[1:]\n",
    "    for x in lines:\n",
    "        polygonal_green_pointcount.append(x.split('\\t')[0])\n",
    "        filename.close()\n",
    "        \n",
    "for file in os.listdir(os.chdir('/Users/sydneyriemer/Desktop/Jmicrovision data')):\n",
    "    if (file.startswith('pol') or file.startswith('Pol')) and file.endswith('PC.txt'):\n",
    "        if \"pink\" in file:\n",
    "            filenames_pol_pink_pc.append(file)\n",
    "\n",
    "for i in filenames_pol_pink_pc:\n",
    "    filename=open(i,'r') \n",
    "    lines=filename.readlines()[1:]\n",
    "    for x in lines:\n",
    "        polygonal_pink_pointcount.append(x.split('\\t')[0])\n",
    "        filename.close()\n",
    "\n",
    "#Enumerate and sort polygonal mat point count data#\n",
    "\n",
    "polygonal_green_PC_dict=dict((Counter(polygonal_green_pointcount)))\n",
    "\n",
    "polygonal_pink_PC_dict=dict((Counter(polygonal_pink_pointcount)))\n",
    "\n",
    "#Obtain flat mat point count data#\n",
    "\n",
    "filenames_flat_green_pc=[]\n",
    "filenames_flat_pink_pc=[]\n",
    "\n",
    "for file in os.listdir(os.chdir('/Users/sydneyriemer/Desktop/Jmicrovision data')):\n",
    "    if file.startswith('flat') and file.endswith('PC.txt'):\n",
    "        if \"top\" in file:\n",
    "            filenames_flat_green_pc.append(file)\n",
    "\n",
    "for i in filenames_flat_green_pc:\n",
    "    filename=open(i,'r') \n",
    "    lines=filename.readlines()[1:]\n",
    "    for x in lines:\n",
    "        flat_green_pointcount.append(x.split('\\t')[0])\n",
    "        filename.close()\n",
    "\n",
    "for file in os.listdir(os.chdir('/Users/sydneyriemer/Desktop/Jmicrovision data')):\n",
    "    if file.startswith('flat') and file.endswith('PC.txt'):\n",
    "        if \"bottom\" in file:\n",
    "            filenames_flat_pink_pc.append(file)\n",
    "\n",
    "for i in filenames_flat_pink_pc:\n",
    "    filename=open(i,'r') \n",
    "    lines=filename.readlines()[1:]\n",
    "    for x in lines:\n",
    "        flat_pink_pointcount.append(x.split('\\t')[0])\n",
    "        filename.close()\n",
    "\n",
    "#Enumerate and sort flat mat point count data#\n",
    "\n",
    "flat_green_PC_dict=dict((Counter(flat_green_pointcount)))\n",
    "\n",
    "flat_pink_PC_dict=dict((Counter(flat_pink_pointcount)))\n",
    "\n",
    "#Obtain old polygonal mat point count data#\n",
    "\n",
    "filenames_oldpol_pc=[]\n",
    "\n",
    "for file in os.listdir(os.chdir('/Users/sydneyriemer/Desktop/Jmicrovision data')):\n",
    "    if file.startswith('old') and file.endswith('PC.txt'):\n",
    "        filenames_oldpol_pc.append(file)\n",
    "\n",
    "for i in filenames_oldpol_pc:\n",
    "    filename=open(i,'r') \n",
    "    lines=filename.readlines()[1:]\n",
    "    for x in lines:\n",
    "        old_polygonal_pointcount.append(x.split('\\t')[0])\n",
    "        filename.close()\n",
    "\n",
    "#Enumerate and sort old polygonal mat point count data#\n",
    "\n",
    "old_polygonal_PC_dict=dict((Counter(old_polygonal_pointcount)))\n",
    "\n",
    "#Obtain polygonal mat filament width data#\n",
    "\n",
    "filenames_pol_green_widths=[]\n",
    "filenames_pol_pink_widths=[]\n",
    "\n",
    "for file in os.listdir(os.chdir('/Users/sydneyriemer/Desktop/Jmicrovision data')):\n",
    "    if (file.startswith('pol') or file.startswith('Pol') or file.startswith('top')) and file.endswith('widths.txt'):\n",
    "        if \"green\" in file or \"top\" in file:\n",
    "            filenames_pol_green_widths.append(file)\n",
    "\n",
    "for i in filenames_pol_green_widths:\n",
    "    filename=open(i,'r') \n",
    "    lines=filename.readlines()[1:]\n",
    "    for x in lines:\n",
    "        polygonal_green_widths.append(x.split('\\t')[4])\n",
    "        filename.close()\n",
    "\n",
    "for file in os.listdir(os.chdir('/Users/sydneyriemer/Desktop/Jmicrovision data')):\n",
    "    if (file.startswith('pol') or file.startswith('Pol')) and file.endswith('widths.txt'):\n",
    "        if \"pink\" in file:\n",
    "            filenames_pol_pink_widths.append(file)\n",
    "\n",
    "for i in filenames_pol_pink_widths:\n",
    "    filename=open(i,'r') \n",
    "    lines=filename.readlines()[1:]\n",
    "    for x in lines:\n",
    "        polygonal_pink_widths.append(x.split('\\t')[4])\n",
    "        filename.close()\n",
    "\n",
    "#Obtain flat mat filament width data#\n",
    "\n",
    "filenames_flat_green_widths=[]\n",
    "filenames_flat_pink_widths=[]\n",
    "\n",
    "for file in os.listdir(os.chdir('/Users/sydneyriemer/Desktop/Jmicrovision data')):\n",
    "    if file.startswith('flat') and file.endswith('widths.txt'):\n",
    "        if \"top\" in file:\n",
    "            filenames_flat_green_widths.append(file)\n",
    "\n",
    "for i in filenames_flat_green_widths:\n",
    "    filename=open(i,'r') \n",
    "    lines=filename.readlines()[1:]\n",
    "    for x in lines:\n",
    "        flat_green_widths.append(x.split('\\t')[4])\n",
    "        filename.close()\n",
    "\n",
    "for file in os.listdir(os.chdir('/Users/sydneyriemer/Desktop/Jmicrovision data')):\n",
    "    if file.startswith('flat') and file.endswith('widths.txt'):\n",
    "        if \"bottom\" in file:\n",
    "            filenames_flat_pink_widths.append(file)\n",
    "\n",
    "for i in filenames_flat_pink_widths:\n",
    "    filename=open(i,'r') \n",
    "    lines=filename.readlines()[1:]\n",
    "    for x in lines:\n",
    "        flat_pink_widths.append(x.split('\\t')[4])\n",
    "        filename.close()\n",
    "\n",
    "#Obtain old polygonal mat filament width data#\n",
    "\n",
    "filenames_oldpol_widths=[]\n",
    "\n",
    "for file in os.listdir(os.chdir('/Users/sydneyriemer/Desktop/Jmicrovision data')):\n",
    "    if file.startswith('old') and file.endswith('widths.txt'):\n",
    "        filenames_oldpol_widths.append(file)\n",
    "        \n",
    "for i in filenames_oldpol_widths:\n",
    "    filename=open(i,'r') \n",
    "    lines=filename.readlines()[1:]\n",
    "    for x in lines:\n",
    "        old_polygonal_widths.append(x.split('\\t')[4])\n",
    "        filename.close()\n"
   ]
  },
  {
   "cell_type": "code",
   "execution_count": 22,
   "metadata": {
    "collapsed": true
   },
   "outputs": [],
   "source": [
    "#Write files out for use in excel or matlab#\n",
    "\n",
    "os.chdir('/Users/sydneyriemer/Desktop/Processed Jmicrovision data')\n",
    "f=open('old_polygonal_widths.txt','w')\n",
    "for i in old_polygonal_widths:\n",
    "    f.write(i+'\\n')\n",
    "f.close()\n",
    "\n",
    "f=open('polygonal_green_widths.txt','w')\n",
    "for i in polygonal_green_widths:\n",
    "    f.write(i+'\\n')\n",
    "f.close()\n",
    "\n",
    "f=open('polygonal_pink_widths.txt','w')\n",
    "for i in polygonal_pink_widths:\n",
    "    f.write(i+'\\n')\n",
    "f.close()\n",
    "\n",
    "f=open('flat_green_widths.txt','w')\n",
    "for i in flat_green_widths:\n",
    "    f.write(i+'\\n')\n",
    "f.close()\n",
    "\n",
    "f=open('flat_pink_widths.txt','w')\n",
    "for i in flat_pink_widths:\n",
    "    f.write(i+'\\n')\n",
    "f.close()"
   ]
  },
  {
   "cell_type": "code",
   "execution_count": 23,
   "metadata": {
    "scrolled": true
   },
   "outputs": [
    {
     "data": {
      "image/png": "[encoded data removed]",
      "text/plain": [
       "<matplotlib.figure.Figure at 0x1a12992630>"
      ]
     },
     "metadata": {},
     "output_type": "display_data"
    },
    {
     "data": {
      "image/png": "[encoded data removed]",
      "text/plain": [
       "<matplotlib.figure.Figure at 0x1029b70b8>"
      ]
     },
     "metadata": {},
     "output_type": "display_data"
    }
   ],
   "source": [
    "#Histogram of filament widths#\n",
    "from pylab import *\n",
    "import matplotlib.pyplot as plt\n",
    "\n",
    "old_polygonal_widths_n=[float(i) for i in old_polygonal_widths]\n",
    "polygonal_pink_widths_n=[float(i) for i in polygonal_pink_widths]\n",
    "polygonal_green_widths_n=[float(i) for i in polygonal_green_widths]\n",
    "flat_pink_widths_n=[float(i) for i in flat_pink_widths]\n",
    "flat_green_widths_n=[float(i) for i in flat_green_widths]\n",
    "\n",
    "\n",
    "all_lists=[old_polygonal_widths_n]+[flat_pink_widths_n]+[flat_green_widths_n]+[polygonal_pink_widths_n]+[polygonal_green_widths_n]\n",
    "flat_list=[]\n",
    "for sublist in all_lists:\n",
    "    for item in sublist:\n",
    "        flat_list.append(item)\n",
    "\n",
    "colors=['r','b','g','y','m']\n",
    "for i in range(len(all_lists)):\n",
    "    plt.hist(all_lists[i],bins=len(flat_list),color=colors[i])\n",
    "plt.show()\n",
    "\n",
    "plt.hist(flat_list,bins=len(flat_list))\n",
    "plt.show()\n"
   ]
  },
  {
   "cell_type": "code",
   "execution_count": 74,
   "metadata": {},
   "outputs": [
    {
     "data": {
      "image/png": "[encoded data removed]",
      "text/plain": [
       "<matplotlib.figure.Figure at 0x1a0a88f9b0>"
      ]
     },
     "metadata": {},
     "output_type": "display_data"
    },
    {
     "name": "stdout",
     "output_type": "stream",
     "text": [
      "[ 0.50761364  0.26015736]\n",
      "[[ 0.51804007  0.33786907  0.49533082  0.5136419   0.27166577  0.01405017\n",
      "   0.18519894]\n",
      " [ 0.13932936  0.29991938  0.13663098  0.16678667  0.53938569  0.47463665\n",
      "   0.57265435]]\n"
     ]
    }
   ],
   "source": [
    "#PCA on point count data separated into layers renormalized without amorphous organic matter, relative abundances\n",
    "\n",
    "from sklearn import decomposition\n",
    "from sklearn import datasets\n",
    "from sklearn import linear_model\n",
    "import numpy as np\n",
    "import scipy\n",
    "from scipy import *\n",
    "from sklearn.preprocessing import StandardScaler\n",
    "import matplotlib.pyplot as plt\n",
    "\n",
    "X=np.array([[42.578125,40.234375,10.546875,6.25,0.390625,0,0],\n",
    "[16.01423488,53.7366548,24.19928826,3.558718861,1.067615658,1.423487544,0],\n",
    "[3.496503497,44.05594406,37.76223776,1.398601399,12.58741259,0.699300699,0],\n",
    "[4.697986577,62.41610738,27.51677852,0,5.369127517,0,0],\n",
    "[10.98901099,55.31135531,32.96703297,0,0.366300366,0,0.366300366]])\n",
    "\n",
    "X_std = StandardScaler().fit_transform(X)\n",
    "pca = decomposition.PCA(n_components=2)\n",
    "Y = pca.fit_transform(X_std)\n",
    "\n",
    "p1,=plt.plot(Y[0][0],Y[0][1],'rx',label='Polgyonal green')\n",
    "p2,=plt.plot(Y[1][0],Y[1][1],'bx', label='Polygonal pink')\n",
    "p3,=plt.plot(Y[2][0],Y[2][1],'gx',label='Flat green')\n",
    "p4,=plt.plot(Y[3][0],Y[3][1],'cx',label='Flat pink')\n",
    "p5,=plt.plot(Y[4][0],Y[4][1],'mx',label='Old polygonal')\n",
    "plt.legend(handles=[p1, p2,p3,p4,p5])\n",
    "plt.xlabel('PCA 1')\n",
    "plt.ylabel('PCA 2')\n",
    "plt.show()\n",
    "\n",
    "print(pca.explained_variance_ratio_) #what percent of the variance PCA 1 and 2 explain\n",
    "print(abs(pca.components_)) #component scores, how much each variable influences PCA 1 and 2\n"
   ]
  },
  {
   "cell_type": "code",
   "execution_count": 76,
   "metadata": {},
   "outputs": [
    {
     "name": "stderr",
     "output_type": "stream",
     "text": [
      "/Users/sydneyriemer/anaconda3/lib/python3.6/site-packages/sklearn/utils/validation.py:475: DataConversionWarning:\n",
      "\n",
      "Data with input dtype int64 was converted to float64 by StandardScaler.\n",
      "\n"
     ]
    },
    {
     "data": {
      "image/png": "[encoded data removed]",
      "text/plain": [
       "<matplotlib.figure.Figure at 0x1a0a56fc18>"
      ]
     },
     "metadata": {},
     "output_type": "display_data"
    },
    {
     "name": "stdout",
     "output_type": "stream",
     "text": [
      "[ 0.393508    0.38273239]\n",
      "[[ 0.02899442  0.53859603  0.52689382  0.14582952  0.36967664  0.09090118\n",
      "   0.51504024]\n",
      " [ 0.57889685  0.22905059  0.22921849  0.57730583  0.43336772  0.1345669\n",
      "   0.14378904]]\n"
     ]
    }
   ],
   "source": [
    "#PCA on point count data separated into layers renormalized without amorphous organic matter, absolute abundances\n",
    "\n",
    "from sklearn import decomposition\n",
    "from sklearn import datasets\n",
    "from sklearn import linear_model\n",
    "import numpy as np\n",
    "import scipy\n",
    "from scipy import *\n",
    "from sklearn.preprocessing import StandardScaler\n",
    "import matplotlib.pyplot as plt\n",
    "\n",
    "X=np.array([[109, 103, 27, 16,1,0,0],\n",
    "[45,151,68,10,3,4,0],\n",
    "[5,63,54,2,18,1,0],\n",
    "[7,93,41,0,8,0,0],\n",
    "[30,151,90,0,1,0,1]])\n",
    "\n",
    "X_std = StandardScaler().fit_transform(X)\n",
    "pca = decomposition.PCA(n_components=2)\n",
    "Y = pca.fit_transform(X_std)\n",
    "\n",
    "p1,=plt.plot(Y[0][0],Y[0][1],'rx',label='Polgyonal green')\n",
    "p2,=plt.plot(Y[1][0],Y[1][1],'bx', label='Polygonal pink')\n",
    "p3,=plt.plot(Y[2][0],Y[2][1],'gx',label='Flat green')\n",
    "p4,=plt.plot(Y[3][0],Y[3][1],'cx',label='Flat pink')\n",
    "p5,=plt.plot(Y[4][0],Y[4][1],'mx',label='Old polygonal')\n",
    "plt.legend(handles=[p1, p2,p3,p4,p5])\n",
    "plt.xlabel('PCA 1')\n",
    "plt.ylabel('PCA 2')\n",
    "plt.show()\n",
    "\n",
    "print(pca.explained_variance_ratio_) #what percent of the variance PCA 1 and 2 explain\n",
    "print(abs(pca.components_)) #component scores, how much each variable influences PCA 1 and 2\n"
   ]
  },
  {
   "cell_type": "code",
   "execution_count": 78,
   "metadata": {},
   "outputs": [
    {
     "data": {
      "image/png": "[encoded data removed]",
      "text/plain": [
       "<matplotlib.figure.Figure at 0x1a13cd6198>"
      ]
     },
     "metadata": {},
     "output_type": "display_data"
    },
    {
     "name": "stdout",
     "output_type": "stream",
     "text": [
      "[ 0.7431798  0.2568202]\n",
      "[[ 0.39728124  0.43749992  0.43432503  0.43822568  0.13893696  0.41682423\n",
      "   0.27755278]\n",
      " [ 0.31547134  0.04865362  0.10186753  0.02297785  0.70738505  0.23126185\n",
      "   0.5773474 ]]\n"
     ]
    }
   ],
   "source": [
    "#PCA on point count data of bulk mats, without amorphous organic matter, relative abundances\n",
    "\n",
    "from sklearn import decomposition\n",
    "from sklearn import datasets\n",
    "from sklearn import linear_model\n",
    "import numpy as np\n",
    "from sklearn.preprocessing import StandardScaler\n",
    "import matplotlib.pyplot as plt\n",
    "\n",
    "X=np.array([[28.67783985,47.29981378,17.69087523,4.841713222,0.744878957,0.744878957,0],\n",
    "[4.109589041,53.42465753,32.53424658,0.684931507,8.904109589,0.342465753,0],\n",
    "[10.98901099,55.31135531,32.96703297,0,0.366300366,0,0.366300366]])\n",
    "\n",
    "X_std = StandardScaler().fit_transform(X)\n",
    "pca = decomposition.PCA(n_components=2)\n",
    "Y = pca.fit_transform(X_std)\n",
    "\n",
    "p1,=plt.plot(Y[0][0],Y[0][1],'rx', label='Polygonal')\n",
    "p2,=plt.plot(Y[1][0],Y[1][1],'bx',label='Flat')\n",
    "p3,=plt.plot(Y[2][0],Y[2][1],'gx',label='Old polygonal')\n",
    "plt.legend(handles=[p1, p2,p3])\n",
    "plt.xlabel('PCA 1')\n",
    "plt.ylabel('PCA 2')\n",
    "plt.show()\n",
    "\n",
    "print(pca.explained_variance_ratio_) #what percent of the variance PCA 1 and 2 explain\n",
    "print(abs(pca.components_)) #component scores, how much each variable influences PCA 1 and 2"
   ]
  },
  {
   "cell_type": "code",
   "execution_count": 79,
   "metadata": {},
   "outputs": [
    {
     "name": "stderr",
     "output_type": "stream",
     "text": [
      "/Users/sydneyriemer/anaconda3/lib/python3.6/site-packages/sklearn/utils/validation.py:475: DataConversionWarning:\n",
      "\n",
      "Data with input dtype int64 was converted to float64 by StandardScaler.\n",
      "\n"
     ]
    },
    {
     "data": {
      "image/png": "[encoded data removed]",
      "text/plain": [
       "<matplotlib.figure.Figure at 0x1029de160>"
      ]
     },
     "metadata": {},
     "output_type": "display_data"
    },
    {
     "name": "stdout",
     "output_type": "stream",
     "text": [
      "[ 0.68645507  0.31354493]\n",
      "[[ 0.41795537  0.44171253  0.3333093   0.44453871  0.05362926  0.45554628\n",
      "   0.3333093 ]\n",
      " [ 0.27050245  0.16869555  0.46086326  0.15157362  0.67031531  0.03582131\n",
      "   0.46086326]]\n"
     ]
    }
   ],
   "source": [
    "#PCA on point count data of bulk mats, without amorphous organic matter, absolute abundances\n",
    "\n",
    "from sklearn import decomposition\n",
    "from sklearn import datasets\n",
    "from sklearn import linear_model\n",
    "import numpy as np\n",
    "from sklearn.preprocessing import StandardScaler\n",
    "import matplotlib.pyplot as plt\n",
    "\n",
    "X=np.array([[154,254,95,26,4,4,0],\n",
    "[12,156,95,2,26,1,0],\n",
    "[30,151,90,0,1,0,1]])\n",
    "\n",
    "X_std = StandardScaler().fit_transform(X)\n",
    "pca = decomposition.PCA(n_components=2)\n",
    "Y = pca.fit_transform(X_std)\n",
    "\n",
    "p1,=plt.plot(Y[0][0],Y[0][1],'rx', label='Polygonal')\n",
    "p2,=plt.plot(Y[1][0],Y[1][1],'bx',label='Flat')\n",
    "p3,=plt.plot(Y[2][0],Y[2][1],'gx',label='Old polygonal')\n",
    "plt.legend(handles=[p1, p2,p3])\n",
    "plt.xlabel('PCA 1')\n",
    "plt.ylabel('PCA 2')\n",
    "plt.show()\n",
    "\n",
    "print(pca.explained_variance_ratio_) #what percent of the variance PCA 1 and 2 explain\n",
    "print(abs(pca.components_)) #component scores, how much each variable influences PCA 1 and 2"
   ]
  },
  {
   "cell_type": "code",
   "execution_count": 82,
   "metadata": {},
   "outputs": [
    {
     "data": {
      "image/png": "[encoded data removed]",
      "text/plain": [
       "<matplotlib.figure.Figure at 0x1a151ce390>"
      ]
     },
     "metadata": {},
     "output_type": "display_data"
    },
    {
     "name": "stdout",
     "output_type": "stream",
     "text": [
      "[ 0.55413203  0.24149318]\n",
      "[[ 0.4655254   0.45727777  0.42448606  0.2876043   0.45445897  0.28564139\n",
      "   0.00445872  0.1521008 ]\n",
      " [ 0.10901082  0.08734662  0.19659537  0.49698756  0.08058505  0.20321954\n",
      "   0.67261079  0.44118411]]\n"
     ]
    }
   ],
   "source": [
    "#PCA on point count data with amorphous organic matter, individual layers, relative abundances\n",
    "\n",
    "from sklearn import decomposition\n",
    "from sklearn import datasets\n",
    "from sklearn import linear_model\n",
    "import numpy as np\n",
    "import scipy\n",
    "from scipy import *\n",
    "from sklearn.preprocessing import StandardScaler\n",
    "import matplotlib.pyplot as plt\n",
    "\n",
    "X=np.array([[83.98999375,6.816760475,6.441525954,1.688555347,1.000625391,0.062539087,0,0],\n",
    "[88.28678616,1.875781576,6.294289287,2.834514381,0.41684035,0.125052105,0.16673614,0],\n",
    "[92.84642321,0.250125063,3.151575788,2.701350675,0.100050025,0.900450225,0.050025013,0],\n",
    "[92.55,0.35,4.65,2.05,0,0.4,0,0],\n",
    "[92.81389839,0.789681495,3.974730192,2.369044485,0,0.026322717,0,0.026322717]])\n",
    "\n",
    "X_std = StandardScaler().fit_transform(X)\n",
    "pca = decomposition.PCA(n_components=2)\n",
    "Y = pca.fit_transform(X_std)\n",
    "\n",
    "p1,=plt.plot(Y[0][0],Y[0][1],'rx',label='Polgyonal green')\n",
    "p2,=plt.plot(Y[1][0],Y[1][1],'bx', label='Polygonal pink')\n",
    "p3,=plt.plot(Y[2][0],Y[2][1],'gx',label='Flat green')\n",
    "p4,=plt.plot(Y[3][0],Y[3][1],'cx',label='Flat pink')\n",
    "p5,=plt.plot(Y[4][0],Y[4][1],'mx',label='Old polygonal')\n",
    "plt.legend(handles=[p1, p2,p3,p4,p5])\n",
    "plt.xlabel('PCA 1')\n",
    "plt.ylabel('PCA 2')\n",
    "plt.show()\n",
    "\n",
    "print(pca.explained_variance_ratio_) #what percent of the variance PCA 1 and 2 explain\n",
    "print(abs(pca.components_)) #component scores, how much each variable influences PCA 1 and 2"
   ]
  },
  {
   "cell_type": "code",
   "execution_count": null,
   "metadata": {
    "collapsed": true
   },
   "outputs": [],
   "source": [
    "#PCA on point count data with amorphous organic matter, individual layers, absolute abundances\n"
   ]
  },
  {
   "cell_type": "code",
   "execution_count": null,
   "metadata": {
    "collapsed": true
   },
   "outputs": [],
   "source": [
    "#PCA on point count data with amorphous organic matter, bulk mats, relative abundances\n"
   ]
  },
  {
   "cell_type": "code",
   "execution_count": null,
   "metadata": {
    "collapsed": true
   },
   "outputs": [],
   "source": [
    "#PCA on point count data with amorphous organic matter, bulk mats, absolute abundances\n"
   ]
  }
 ],
 "metadata": {
  "kernelspec": {
   "display_name": "Python 3",
   "language": "python",
   "name": "python3"
  },
  "language_info": {
   "codemirror_mode": {
    "name": "ipython",
    "version": 3
   },
   "file_extension": ".py",
   "mimetype": "text/x-python",
   "name": "python",
   "nbconvert_exporter": "python",
   "pygments_lexer": "ipython3",
   "version": "3.6.3"
  }
 },
 "nbformat": 4,
 "nbformat_minor": 2
}
