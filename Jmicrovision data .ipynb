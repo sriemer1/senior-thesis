{
 "cells": [
  {
   "cell_type": "code",
   "execution_count": 21,
   "metadata": {
    "scrolled": true
   },
   "outputs": [
    {
     "name": "stdout",
     "output_type": "stream",
     "text": [
      "{'\"Amorphous organic matter\"': 3526, '\"Bacterial filament\"': 151, '\"Coccoid\"': 90, '\"Cyanobacterial filament\"': 30, '\"Diatom\"': 1, '\"?\"': 1, '\"Dinoflagellate\"': 1}\n"
     ]
    }
   ],
   "source": [
    "import os \n",
    "import numpy as np\n",
    "from collections import Counter\n",
    "from matplotlib import *\n",
    "\n",
    "\n",
    "#Lists that will contain data for analysis\n",
    "\n",
    "polygonal_green_pointcount=[]   #note: point count data is enumerated in a dictionary\n",
    "polygonal_pink_pointcount=[]\n",
    "flat_green_pointcount=[]\n",
    "flat_pink_pointcount=[]\n",
    "polygonal_green_widths=[]\n",
    "polygonal_pink_widths=[]\n",
    "flat_green_widths=[]\n",
    "flat_pink_widths=[]\n",
    "old_polygonal_pointcount=[]\n",
    "old_polygonal_widths=[]\n",
    "\n",
    "#Obtain polygonal mat point count data#\n",
    "\n",
    "filenames_pol_green_pc=[]\n",
    "filenames_pol_pink_pc=[]\n",
    "\n",
    "for file in os.listdir(os.chdir('/Users/sydneyriemer/Desktop/Jmicrovision data')):\n",
    "    if (file.startswith('pol') or file.startswith('Pol') or file.startswith('top')) and file.endswith('PC.txt'):\n",
    "        if \"green\" in file or \"top\" in file:\n",
    "            filenames_pol_green_pc.append(file)\n",
    "\n",
    "for i in filenames_pol_green_pc:\n",
    "    filename=open(i,'r') \n",
    "    lines=filename.readlines()[1:]\n",
    "    for x in lines:\n",
    "        polygonal_green_pointcount.append(x.split('\\t')[0])\n",
    "        filename.close()\n",
    "        \n",
    "for file in os.listdir(os.chdir('/Users/sydneyriemer/Desktop/Jmicrovision data')):\n",
    "    if (file.startswith('pol') or file.startswith('Pol')) and file.endswith('PC.txt'):\n",
    "        if \"pink\" in file:\n",
    "            filenames_pol_pink_pc.append(file)\n",
    "\n",
    "for i in filenames_pol_pink_pc:\n",
    "    filename=open(i,'r') \n",
    "    lines=filename.readlines()[1:]\n",
    "    for x in lines:\n",
    "        polygonal_pink_pointcount.append(x.split('\\t')[0])\n",
    "        filename.close()\n",
    "\n",
    "#Enumerate and sort polygonal mat point count data#\n",
    "\n",
    "polygonal_green_PC_dict=dict((Counter(polygonal_green_pointcount)))\n",
    "\n",
    "polygonal_pink_PC_dict=dict((Counter(polygonal_pink_pointcount)))\n",
    "\n",
    "#Obtain flat mat point count data#\n",
    "\n",
    "filenames_flat_green_pc=[]\n",
    "filenames_flat_pink_pc=[]\n",
    "\n",
    "for file in os.listdir(os.chdir('/Users/sydneyriemer/Desktop/Jmicrovision data')):\n",
    "    if file.startswith('flat') and file.endswith('PC.txt'):\n",
    "        if \"top\" in file:\n",
    "            filenames_flat_green_pc.append(file)\n",
    "\n",
    "for i in filenames_flat_green_pc:\n",
    "    filename=open(i,'r') \n",
    "    lines=filename.readlines()[1:]\n",
    "    for x in lines:\n",
    "        flat_green_pointcount.append(x.split('\\t')[0])\n",
    "        filename.close()\n",
    "\n",
    "for file in os.listdir(os.chdir('/Users/sydneyriemer/Desktop/Jmicrovision data')):\n",
    "    if file.startswith('flat') and file.endswith('PC.txt'):\n",
    "        if \"bottom\" in file:\n",
    "            filenames_flat_pink_pc.append(file)\n",
    "\n",
    "for i in filenames_flat_pink_pc:\n",
    "    filename=open(i,'r') \n",
    "    lines=filename.readlines()[1:]\n",
    "    for x in lines:\n",
    "        flat_pink_pointcount.append(x.split('\\t')[0])\n",
    "        filename.close()\n",
    "\n",
    "#Enumerate and sort flat mat point count data#\n",
    "\n",
    "flat_green_PC_dict=dict((Counter(flat_green_pointcount)))\n",
    "\n",
    "flat_pink_PC_dict=dict((Counter(flat_pink_pointcount)))\n",
    "\n",
    "#Obtain old polygonal mat point count data#\n",
    "\n",
    "filenames_oldpol_pc=[]\n",
    "\n",
    "for file in os.listdir(os.chdir('/Users/sydneyriemer/Desktop/Jmicrovision data')):\n",
    "    if file.startswith('old') and file.endswith('PC.txt'):\n",
    "        filenames_oldpol_pc.append(file)\n",
    "\n",
    "for i in filenames_oldpol_pc:\n",
    "    filename=open(i,'r') \n",
    "    lines=filename.readlines()[1:]\n",
    "    for x in lines:\n",
    "        old_polygonal_pointcount.append(x.split('\\t')[0])\n",
    "        filename.close()\n",
    "\n",
    "#Enumerate and sort old polygonal mat point count data#\n",
    "\n",
    "old_polygonal_PC_dict=dict((Counter(old_polygonal_pointcount)))\n",
    "\n",
    "#Obtain polygonal mat filament width data#\n",
    "\n",
    "filenames_pol_green_widths=[]\n",
    "filenames_pol_pink_widths=[]\n",
    "\n",
    "for file in os.listdir(os.chdir('/Users/sydneyriemer/Desktop/Jmicrovision data')):\n",
    "    if (file.startswith('pol') or file.startswith('Pol') or file.startswith('top')) and file.endswith('widths.txt'):\n",
    "        if \"green\" in file or \"top\" in file:\n",
    "            filenames_pol_green_widths.append(file)\n",
    "\n",
    "for i in filenames_pol_green_widths:\n",
    "    filename=open(i,'r') \n",
    "    lines=filename.readlines()[1:]\n",
    "    for x in lines:\n",
    "        polygonal_green_widths.append(x.split('\\t')[4])\n",
    "        filename.close()\n",
    "\n",
    "for file in os.listdir(os.chdir('/Users/sydneyriemer/Desktop/Jmicrovision data')):\n",
    "    if (file.startswith('pol') or file.startswith('Pol')) and file.endswith('widths.txt'):\n",
    "        if \"pink\" in file:\n",
    "            filenames_pol_pink_widths.append(file)\n",
    "\n",
    "for i in filenames_pol_pink_widths:\n",
    "    filename=open(i,'r') \n",
    "    lines=filename.readlines()[1:]\n",
    "    for x in lines:\n",
    "        polygonal_pink_widths.append(x.split('\\t')[4])\n",
    "        filename.close()\n",
    "\n",
    "#Obtain flat mat filament width data#\n",
    "\n",
    "filenames_flat_green_widths=[]\n",
    "filenames_flat_pink_widths=[]\n",
    "\n",
    "for file in os.listdir(os.chdir('/Users/sydneyriemer/Desktop/Jmicrovision data')):\n",
    "    if file.startswith('flat') and file.endswith('widths.txt'):\n",
    "        if \"top\" in file:\n",
    "            filenames_flat_green_widths.append(file)\n",
    "\n",
    "for i in filenames_flat_green_widths:\n",
    "    filename=open(i,'r') \n",
    "    lines=filename.readlines()[1:]\n",
    "    for x in lines:\n",
    "        flat_green_widths.append(x.split('\\t')[4])\n",
    "        filename.close()\n",
    "\n",
    "for file in os.listdir(os.chdir('/Users/sydneyriemer/Desktop/Jmicrovision data')):\n",
    "    if file.startswith('flat') and file.endswith('widths.txt'):\n",
    "        if \"bottom\" in file:\n",
    "            filenames_flat_pink_widths.append(file)\n",
    "\n",
    "for i in filenames_flat_pink_widths:\n",
    "    filename=open(i,'r') \n",
    "    lines=filename.readlines()[1:]\n",
    "    for x in lines:\n",
    "        flat_pink_widths.append(x.split('\\t')[4])\n",
    "        filename.close()\n",
    "\n",
    "#Obtain old polygonal mat filament width data#\n",
    "\n",
    "filenames_oldpol_widths=[]\n",
    "\n",
    "for file in os.listdir(os.chdir('/Users/sydneyriemer/Desktop/Jmicrovision data')):\n",
    "    if file.startswith('old') and file.endswith('widths.txt'):\n",
    "        filenames_oldpol_widths.append(file)\n",
    "        \n",
    "for i in filenames_oldpol_widths:\n",
    "    filename=open(i,'r') \n",
    "    lines=filename.readlines()[1:]\n",
    "    for x in lines:\n",
    "        old_polygonal_widths.append(x.split('\\t')[4])\n",
    "        filename.close()\n"
   ]
  },
  {
   "cell_type": "code",
   "execution_count": 22,
   "metadata": {
    "collapsed": true
   },
   "outputs": [],
   "source": [
    "#Write files out for use in excel or matlab#\n",
    "\n",
    "os.chdir('/Users/sydneyriemer/Desktop/Processed Jmicrovision data')\n",
    "f=open('old_polygonal_widths.txt','w')\n",
    "for i in old_polygonal_widths:\n",
    "    f.write(i+'\\n')\n",
    "f.close()\n",
    "\n",
    "f=open('polygonal_green_widths.txt','w')\n",
    "for i in polygonal_green_widths:\n",
    "    f.write(i+'\\n')\n",
    "f.close()\n",
    "\n",
    "f=open('polygonal_pink_widths.txt','w')\n",
    "for i in polygonal_pink_widths:\n",
    "    f.write(i+'\\n')\n",
    "f.close()\n",
    "\n",
    "f=open('flat_green_widths.txt','w')\n",
    "for i in flat_green_widths:\n",
    "    f.write(i+'\\n')\n",
    "f.close()\n",
    "\n",
    "f=open('flat_pink_widths.txt','w')\n",
    "for i in flat_pink_widths:\n",
    "    f.write(i+'\\n')\n",
    "f.close()"
   ]
  },
  {
   "cell_type": "code",
   "execution_count": 23,
   "metadata": {
    "scrolled": true
   },
   "outputs": [
    {
     "data": {
      "image/png": "[encoded data removed]",
      "text/plain": [
       "<matplotlib.figure.Figure at 0x1a12992630>"
      ]
     },
     "metadata": {},
     "output_type": "display_data"
    },
    {
     "data": {
      "image/png": "[encoded data removed]",
      "text/plain": [
       "<matplotlib.figure.Figure at 0x1029b70b8>"
      ]
     },
     "metadata": {},
     "output_type": "display_data"
    }
   ],
   "source": [
    "#Histogram of filament widths#\n",
    "from pylab import *\n",
    "import matplotlib.pyplot as plt\n",
    "\n",
    "old_polygonal_widths_n=[float(i) for i in old_polygonal_widths]\n",
    "polygonal_pink_widths_n=[float(i) for i in polygonal_pink_widths]\n",
    "polygonal_green_widths_n=[float(i) for i in polygonal_green_widths]\n",
    "flat_pink_widths_n=[float(i) for i in flat_pink_widths]\n",
    "flat_green_widths_n=[float(i) for i in flat_green_widths]\n",
    "\n",
    "\n",
    "all_lists=[old_polygonal_widths_n]+[flat_pink_widths_n]+[flat_green_widths_n]+[polygonal_pink_widths_n]+[polygonal_green_widths_n]\n",
    "flat_list=[]\n",
    "for sublist in all_lists:\n",
    "    for item in sublist:\n",
    "        flat_list.append(item)\n",
    "\n",
    "colors=['r','b','g','y','m']\n",
    "for i in range(len(all_lists)):\n",
    "    plt.hist(all_lists[i],bins=len(flat_list),color=colors[i])\n",
    "plt.show()\n",
    "\n",
    "plt.hist(flat_list,bins=len(flat_list))\n",
    "plt.show()\n"
   ]
  },
  {
   "cell_type": "code",
   "execution_count": 46,
   "metadata": {},
   "outputs": [
    {
     "data": {
      "image/png": "[encoded data removed]",
      "text/plain": [
       "<matplotlib.figure.Figure at 0x1029b3588>"
      ]
     },
     "metadata": {},
     "output_type": "display_data"
    }
   ],
   "source": [
    "#PCA on point count data separated into layers renormalized without amorphous organic matter\n",
    "\n",
    "from sklearn import decomposition\n",
    "from sklearn import datasets\n",
    "from sklearn import linear_model\n",
    "import numpy as np\n",
    "from sklearn.preprocessing import StandardScaler\n",
    "import matplotlib.pyplot as plt\n",
    "\n",
    "X=np.array([[42.578125,40.234375,10.546875,6.25,0.390625,0,0],\n",
    "[16.01423488,53.7366548,24.19928826,3.558718861,1.067615658,1.423487544,0],\n",
    "[3.496503497,44.05594406,37.76223776,1.398601399,12.58741259,0.699300699,0],\n",
    "[4.697986577,62.41610738,27.51677852,0,5.369127517,0,0],\n",
    "[10.98901099,55.31135531,32.96703297,0,0.366300366,0,0.366300366]])\n",
    "\n",
    "X_std = StandardScaler().fit_transform(X)\n",
    "pca = decomposition.PCA(n_components=2)\n",
    "Y = pca.fit_transform(X_std)\n",
    "\n",
    "p1,=plt.plot(Y[0][0],Y[0][1],'rx',label='Polgyonal green')\n",
    "p2,=plt.plot(Y[1][0],Y[1][1],'bx', label='Polygonal pink')\n",
    "p3,=plt.plot(Y[2][0],Y[2][1],'gx',label='Flat green')\n",
    "p4,=plt.plot(Y[3][0],Y[3][1],'cx',label='Flat pink')\n",
    "p5,=plt.plot(Y[4][0],Y[4][1],'mx',label='Old polygonal')\n",
    "plt.legend(handles=[p1, p2,p3,p4,p5])\n",
    "plt.xlabel('PCA 1')\n",
    "plt.ylabel('PCA 2')\n",
    "plt.show()"
   ]
  },
  {
   "cell_type": "code",
   "execution_count": 48,
   "metadata": {},
   "outputs": [
    {
     "name": "stderr",
     "output_type": "stream",
     "text": [
      "/Users/sydneyriemer/anaconda3/lib/python3.6/site-packages/sklearn/utils/validation.py:475: DataConversionWarning:\n",
      "\n",
      "Data with input dtype int64 was converted to float64 by StandardScaler.\n",
      "\n"
     ]
    },
    {
     "data": {
      "image/png": "[encoded data removed]",
      "text/plain": [
       "<matplotlib.figure.Figure at 0x102a1dd68>"
      ]
     },
     "metadata": {},
     "output_type": "display_data"
    }
   ],
   "source": [
    "#PCA on point count data of bulk mats, without amorphous organic matter\n",
    "\n",
    "from sklearn import decomposition\n",
    "from sklearn import datasets\n",
    "from sklearn import linear_model\n",
    "import numpy as np\n",
    "from sklearn.preprocessing import StandardScaler\n",
    "import matplotlib.pyplot as plt\n",
    "\n",
    "X=np.array([[154,254,95,26,4,4,0],\n",
    "[12,156,95,2,26,1,0],\n",
    "[30,151,90,0,1,0,1]])\n",
    "\n",
    "X_std = StandardScaler().fit_transform(X)\n",
    "pca = decomposition.PCA(n_components=2)\n",
    "Y = pca.fit_transform(X_std)\n",
    "\n",
    "p1,=plt.plot(Y[0][0],Y[0][1],'rx', label='Polygonal')\n",
    "p2,=plt.plot(Y[1][0],Y[1][1],'bx',label='Flat')\n",
    "p3,=plt.plot(Y[2][0],Y[2][1],'gx',label='Old polygonal')\n",
    "plt.legend(handles=[p1, p2,p3])\n",
    "plt.xlabel('PCA 1')\n",
    "plt.ylabel('PCA 2')\n",
    "plt.show()"
   ]
  },
  {
   "cell_type": "code",
   "execution_count": null,
   "metadata": {
    "collapsed": true
   },
   "outputs": [],
   "source": [
    "#PCA on point count data with average filament widths"
   ]
  }
 ],
 "metadata": {
  "kernelspec": {
   "display_name": "Python 3",
   "language": "python",
   "name": "python3"
  },
  "language_info": {
   "codemirror_mode": {
    "name": "ipython",
    "version": 3
   },
   "file_extension": ".py",
   "mimetype": "text/x-python",
   "name": "python",
   "nbconvert_exporter": "python",
   "pygments_lexer": "ipython3",
   "version": "3.6.3"
  }
 },
 "nbformat": 4,
 "nbformat_minor": 2
}
