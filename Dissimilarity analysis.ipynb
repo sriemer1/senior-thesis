{
 "cells": [
  {
   "cell_type": "code",
   "execution_count": 16,
   "metadata": {},
   "outputs": [
    {
     "name": "stdout",
     "output_type": "stream",
     "text": [
      "0.933199970833\n",
      "0.937280630318\n",
      "0.917932841409\n",
      "0.992945920085\n",
      "0.970232495605\n",
      "0.97578579887\n",
      "\n",
      "\n",
      "0.708725542694\n",
      "0.763460003668\n",
      "0.831951702978\n",
      "0.904347935161\n",
      "0.759758432729\n",
      "0.827956989236\n",
      "\n",
      "\n",
      "0.933099912467\n",
      "0.957547774785\n",
      "0.917729432358\n",
      "0.96947935368\n",
      "0.970121265158\n",
      "0.952686241826\n",
      "\n",
      "\n",
      "0.65138721351\n",
      "0.671604938272\n",
      "0.559571619813\n",
      "0.899115044248\n",
      "0.689243027888\n",
      "0.782608695652\n"
     ]
    }
   ],
   "source": [
    "import numpy as np\n",
    "import scipy\n",
    "from scipy import stats\n",
    "from scipy import spatial\n",
    "\n",
    "#Bray-curtis on bulk mats (RA) w/AOM\n",
    "W_P=[86.56828414,3.851925963,6.353176588,2.376188094,0.650325163,0.100050025,0.100050025,0,0]\n",
    "W_F=[92.69817454,0.300075019,3.900975244,2.375593898,0.050012503,0.650162541,0.025006252,0,0]\n",
    "W_OP=[92.81389839,0.789681495,3.974730192,2.369044485,0,0.026322717,0,0.026322717,0],\n",
    "W_OF=[94.75,1.2,2.8,1.15,0.05,0.025,0,0,0.025]\n",
    "\n",
    "print(1-scipy.spatial.distance.braycurtis(W_P,W_F))\n",
    "print(1-scipy.spatial.distance.braycurtis(W_P,W_OP))\n",
    "print(1-scipy.spatial.distance.braycurtis(W_P,W_OF))\n",
    "\n",
    "print(1-scipy.spatial.distance.braycurtis(W_F,W_OP))\n",
    "print(1-scipy.spatial.distance.braycurtis(W_F,W_OF))\n",
    "\n",
    "print(1-scipy.spatial.distance.braycurtis(W_OP,W_OF))\n",
    "\n",
    "#Bray-curtis on bulk mats (RA) w/o AOM\n",
    "X_P=[28.67783985,47.29981378,17.69087523,4.841713222,0.744878957,0.744878957,0,0]\n",
    "X_F=[4.109589041,53.42465753,32.53424658,0.684931507,8.904109589,0.342465753,0,0]\n",
    "X_OP=[10.98901099,55.31135531,32.96703297,0,0.366300366,0,0.366300366,0]\n",
    "X_OF=[29.62962963,69.13580247,28.39506173,1.234567901,0.617283951,0,0,0.617283951]\n",
    "\n",
    "print('\\n')\n",
    "print(1-scipy.spatial.distance.braycurtis(X_P,X_F))\n",
    "print(1-scipy.spatial.distance.braycurtis(X_P,X_OP))\n",
    "print(1-scipy.spatial.distance.braycurtis(X_P,X_OF))\n",
    "\n",
    "print(1-scipy.spatial.distance.braycurtis(X_F,X_OP))\n",
    "print(1-scipy.spatial.distance.braycurtis(X_F,X_OF))\n",
    "\n",
    "print(1-scipy.spatial.distance.braycurtis(X_OP,X_OF))\n",
    "    \n",
    "#Bray-curtis on bulk mats (AA) w/AOM\n",
    "Y_P=[3461,154,254,95,26,4,4,0,0]\n",
    "Y_F=[3707,12,156,95,2,26,1,0,0]\n",
    "Y_OP=[3526,30,151,90,0,1,0,1,0]\n",
    "Y_OF=[3790,48,112,46,2,1,0,0,1]\n",
    "\n",
    "print('\\n')\n",
    "print(1-scipy.spatial.distance.braycurtis(Y_P,Y_F))\n",
    "print(1-scipy.spatial.distance.braycurtis(Y_P,Y_OP))\n",
    "print(1-scipy.spatial.distance.braycurtis(Y_P,Y_OF))\n",
    "\n",
    "print(1-scipy.spatial.distance.braycurtis(Y_F,Y_OP))\n",
    "print(1-scipy.spatial.distance.braycurtis(Y_F,Y_OF))\n",
    "\n",
    "print(1-scipy.spatial.distance.braycurtis(Y_OP,Y_OF))\n",
    "\n",
    "#Bray-curtis on bulk mats (AA) w/o AOM\n",
    "Z_P=[154,254,95,26,4,4,0,0]\n",
    "Z_F=[12,156,95,2,26,1,0,0]\n",
    "Z_OP=[30,151,90,0,1,0,1,0]\n",
    "Z_OF=[48,112,46,2,1,0,0,1]\n",
    "    \n",
    "print('\\n')\n",
    "print(1-scipy.spatial.distance.braycurtis(Z_P,Z_F))\n",
    "print(1-scipy.spatial.distance.braycurtis(Z_P,Z_OP))\n",
    "print(1-scipy.spatial.distance.braycurtis(Z_P,Z_OF))\n",
    "\n",
    "print(1-scipy.spatial.distance.braycurtis(Z_F,Z_OP))\n",
    "print(1-scipy.spatial.distance.braycurtis(Z_F,Z_OF))\n",
    "\n",
    "print(1-scipy.spatial.distance.braycurtis(Z_OP,Z_OF))"
   ]
  },
  {
   "cell_type": "code",
   "execution_count": null,
   "metadata": {
    "collapsed": true
   },
   "outputs": [],
   "source": [
    "#Bray-curtis on individual layers (RA) w/AOM\n",
    "#Bray-curtis on individual layers (RA) w/o AOM\n"
   ]
  }
 ],
 "metadata": {
  "kernelspec": {
   "display_name": "Python 3",
   "language": "python",
   "name": "python3"
  },
  "language_info": {
   "codemirror_mode": {
    "name": "ipython",
    "version": 3
   },
   "file_extension": ".py",
   "mimetype": "text/x-python",
   "name": "python",
   "nbconvert_exporter": "python",
   "pygments_lexer": "ipython3",
   "version": "3.6.3"
  }
 },
 "nbformat": 4,
 "nbformat_minor": 2
}
